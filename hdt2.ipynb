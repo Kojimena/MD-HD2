{
 "cells": [
  {
   "cell_type": "markdown",
   "metadata": {},
   "source": [
    "## HDT2 \n",
    "Autores:\n",
    "- Mark Albrand\n",
    "- Jimena Hernández "
   ]
  }
 ],
 "metadata": {
  "language_info": {
   "name": "python"
  },
  "orig_nbformat": 4
 },
 "nbformat": 4,
 "nbformat_minor": 2
}
